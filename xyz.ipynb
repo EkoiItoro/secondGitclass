{
 "cells": [
  {
   "cell_type": "code",
   "execution_count": 3,
   "id": "94b472fa",
   "metadata": {},
   "outputs": [],
   "source": [
    "import numpy as np"
   ]
  },
  {
   "cell_type": "code",
   "execution_count": 6,
   "id": "63f4c110",
   "metadata": {},
   "outputs": [
    {
     "name": "stdout",
     "output_type": "stream",
     "text": [
      "[1 2 3]\n"
     ]
    }
   ],
   "source": [
    "x=np.array([1,2,3])\n",
    "print(x)"
   ]
  },
  {
   "cell_type": "code",
   "execution_count": 8,
   "id": "3d183247",
   "metadata": {},
   "outputs": [
    {
     "name": "stdout",
     "output_type": "stream",
     "text": [
      "1\n"
     ]
    }
   ],
   "source": [
    "print(x[0])"
   ]
  },
  {
   "cell_type": "code",
   "execution_count": 9,
   "id": "5b063c59",
   "metadata": {},
   "outputs": [
    {
     "name": "stdout",
     "output_type": "stream",
     "text": [
      "['one' 'two' 'three' 'four' 'five']\n"
     ]
    }
   ],
   "source": [
    "y=np.array(['one','two','three','four' ,\"five\"])\n",
    "print(y)"
   ]
  },
  {
   "cell_type": "code",
   "execution_count": 11,
   "id": "e83fb971",
   "metadata": {},
   "outputs": [
    {
     "name": "stdout",
     "output_type": "stream",
     "text": [
      "four\n"
     ]
    }
   ],
   "source": [
    "y=np.array(['one','two','three','four' ,\"five\"])\n",
    "print(y[3])"
   ]
  },
  {
   "cell_type": "code",
   "execution_count": 12,
   "id": "6b4daa37",
   "metadata": {},
   "outputs": [
    {
     "name": "stdout",
     "output_type": "stream",
     "text": [
      "three\n"
     ]
    }
   ],
   "source": [
    "y=np.array(['one','two','three','four' ,\"five\"])\n",
    "print(y[2])"
   ]
  },
  {
   "cell_type": "code",
   "execution_count": 15,
   "id": "140004e6",
   "metadata": {},
   "outputs": [
    {
     "ename": "TypeError",
     "evalue": "Field elements must be 2- or 3-tuples, got '4'",
     "output_type": "error",
     "traceback": [
      "\u001b[1;31m---------------------------------------------------------------------------\u001b[0m",
      "\u001b[1;31mTypeError\u001b[0m                                 Traceback (most recent call last)",
      "\u001b[1;32m<ipython-input-15-643babb0bf99>\u001b[0m in \u001b[0;36m<module>\u001b[1;34m\u001b[0m\n\u001b[1;32m----> 1\u001b[1;33m \u001b[0mz\u001b[0m\u001b[1;33m=\u001b[0m\u001b[0mnp\u001b[0m\u001b[1;33m.\u001b[0m\u001b[0marray\u001b[0m\u001b[1;33m(\u001b[0m\u001b[1;33m[\u001b[0m\u001b[1;36m1\u001b[0m\u001b[1;33m,\u001b[0m\u001b[1;36m2\u001b[0m\u001b[1;33m,\u001b[0m\u001b[1;36m3\u001b[0m\u001b[1;33m,\u001b[0m\u001b[1;33m]\u001b[0m\u001b[1;33m,\u001b[0m\u001b[1;33m[\u001b[0m\u001b[1;36m4\u001b[0m\u001b[1;33m,\u001b[0m\u001b[1;36m5\u001b[0m\u001b[1;33m,\u001b[0m\u001b[1;36m6\u001b[0m\u001b[1;33m]\u001b[0m\u001b[1;33m)\u001b[0m\u001b[1;33m\u001b[0m\u001b[1;33m\u001b[0m\u001b[0m\n\u001b[0m\u001b[0;32m      2\u001b[0m \u001b[0mprint\u001b[0m\u001b[1;33m(\u001b[0m\u001b[0mz\u001b[0m\u001b[1;33m)\u001b[0m\u001b[1;33m\u001b[0m\u001b[1;33m\u001b[0m\u001b[0m\n",
      "\u001b[1;31mTypeError\u001b[0m: Field elements must be 2- or 3-tuples, got '4'"
     ]
    }
   ],
   "source": [
    "z=np.array([1,2,3,],[4,5,6])\n",
    "print(z)"
   ]
  },
  {
   "cell_type": "code",
   "execution_count": null,
   "id": "b548a1a7",
   "metadata": {},
   "outputs": [],
   "source": [
    "# Pandas\n"
   ]
  },
  {
   "cell_type": "code",
   "execution_count": 16,
   "id": "a5aa1ceb",
   "metadata": {},
   "outputs": [],
   "source": [
    "import pandas as pd"
   ]
  },
  {
   "cell_type": "code",
   "execution_count": 19,
   "id": "30b013eb",
   "metadata": {},
   "outputs": [
    {
     "name": "stdout",
     "output_type": "stream",
     "text": [
      "   0\n",
      "0  1\n",
      "1  2\n",
      "2  3\n"
     ]
    }
   ],
   "source": [
    "x=pd.DataFrame([1,2,3])\n",
    "print(x)"
   ]
  },
  {
   "cell_type": "code",
   "execution_count": 20,
   "id": "a0c9cb21",
   "metadata": {},
   "outputs": [
    {
     "name": "stdout",
     "output_type": "stream",
     "text": [
      "0    1\n",
      "1    2\n",
      "2    3\n",
      "3    4\n",
      "dtype: int64\n"
     ]
    }
   ],
   "source": [
    "x=pd.Series([1,2,3,4])\n",
    "print(x)"
   ]
  },
  {
   "cell_type": "code",
   "execution_count": 21,
   "id": "0d032979",
   "metadata": {},
   "outputs": [
    {
     "name": "stdout",
     "output_type": "stream",
     "text": [
      "0    5\n",
      "1    2\n",
      "2    3\n",
      "3    6\n",
      "dtype: int64\n"
     ]
    }
   ],
   "source": [
    "x=pd.Series([5,2,3,6])\n",
    "print(x)"
   ]
  },
  {
   "cell_type": "code",
   "execution_count": null,
   "id": "ac5ad154",
   "metadata": {},
   "outputs": [],
   "source": []
  },
  {
   "cell_type": "markdown",
   "id": "75abc2e0",
   "metadata": {},
   "source": [
    "# The Series in Pandas"
   ]
  },
  {
   "cell_type": "code",
   "execution_count": 22,
   "id": "1b261c97",
   "metadata": {},
   "outputs": [
    {
     "name": "stdout",
     "output_type": "stream",
     "text": [
      "0     1\n",
      "1    -3\n",
      "2     5\n",
      "3   -20\n",
      "dtype: int64\n"
     ]
    }
   ],
   "source": [
    "mySeries=pd.Series([1,-3,5,-20])\n",
    "print(mySeries)"
   ]
  },
  {
   "cell_type": "code",
   "execution_count": 28,
   "id": "4ff18bf0",
   "metadata": {},
   "outputs": [
    {
     "name": "stdout",
     "output_type": "stream",
     "text": [
      "a     1\n",
      "b    -3\n",
      "c     5\n",
      "d   -20\n",
      "dtype: int64\n"
     ]
    }
   ],
   "source": [
    "mySeries2=pd.Series([1,-3,5,-20], index=['a','b','c','d'])\n",
    "print(mySeries2)"
   ]
  },
  {
   "cell_type": "code",
   "execution_count": 30,
   "id": "0f26b961",
   "metadata": {},
   "outputs": [
    {
     "name": "stdout",
     "output_type": "stream",
     "text": [
      "[  1  -3   5 -20]\n"
     ]
    }
   ],
   "source": [
    "m=mySeries2.values\n",
    "print(m)"
   ]
  },
  {
   "cell_type": "code",
   "execution_count": 31,
   "id": "c1a26afc",
   "metadata": {},
   "outputs": [
    {
     "name": "stdout",
     "output_type": "stream",
     "text": [
      "Index(['a', 'b', 'c', 'd'], dtype='object')\n"
     ]
    }
   ],
   "source": [
    "m=mySeries2.index\n",
    "print(m)"
   ]
  },
  {
   "cell_type": "code",
   "execution_count": 32,
   "id": "919830ee",
   "metadata": {},
   "outputs": [
    {
     "name": "stdout",
     "output_type": "stream",
     "text": [
      "5\n"
     ]
    }
   ],
   "source": [
    "m=mySeries2[2]\n",
    "print(m)"
   ]
  },
  {
   "cell_type": "code",
   "execution_count": 33,
   "id": "edcd242f",
   "metadata": {},
   "outputs": [
    {
     "name": "stdout",
     "output_type": "stream",
     "text": [
      "a    1\n",
      "b   -3\n",
      "dtype: int64\n"
     ]
    }
   ],
   "source": [
    "m=mySeries2[0:2]\n",
    "print(m)"
   ]
  },
  {
   "cell_type": "code",
   "execution_count": 35,
   "id": "ab62161e",
   "metadata": {},
   "outputs": [
    {
     "name": "stdout",
     "output_type": "stream",
     "text": [
      "-3\n"
     ]
    }
   ],
   "source": [
    "m=mySeries2['b']\n",
    "print(m)"
   ]
  },
  {
   "cell_type": "code",
   "execution_count": 37,
   "id": "95930f40",
   "metadata": {},
   "outputs": [
    {
     "name": "stdout",
     "output_type": "stream",
     "text": [
      "b   -3\n",
      "c    5\n",
      "dtype: int64\n"
     ]
    }
   ],
   "source": [
    "m=mySeries2[['b','c']]\n",
    "print(m)"
   ]
  },
  {
   "cell_type": "code",
   "execution_count": 39,
   "id": "fdca4254",
   "metadata": {},
   "outputs": [
    {
     "name": "stdout",
     "output_type": "stream",
     "text": [
      "5\n"
     ]
    }
   ],
   "source": [
    "m=mySeries2[2]\n",
    "print(m)"
   ]
  },
  {
   "cell_type": "code",
   "execution_count": 40,
   "id": "75a65b3d",
   "metadata": {},
   "outputs": [
    {
     "name": "stdout",
     "output_type": "stream",
     "text": [
      "a    1\n",
      "b   -3\n",
      "dtype: int64\n"
     ]
    }
   ],
   "source": [
    "m=mySeries2[0:2]\n",
    "print(m)"
   ]
  },
  {
   "cell_type": "code",
   "execution_count": 41,
   "id": "34a715a5",
   "metadata": {},
   "outputs": [
    {
     "name": "stdout",
     "output_type": "stream",
     "text": [
      "-3\n"
     ]
    }
   ],
   "source": [
    "m=mySeries2['b']\n",
    "print(m)"
   ]
  },
  {
   "cell_type": "code",
   "execution_count": 44,
   "id": "74407530",
   "metadata": {},
   "outputs": [
    {
     "name": "stdout",
     "output_type": "stream",
     "text": [
      "a    1\n",
      "b   -3\n",
      "dtype: int64\n"
     ]
    }
   ],
   "source": [
    "m=mySeries2[['a','b']]\n",
    "print(m)"
   ]
  },
  {
   "cell_type": "code",
   "execution_count": 45,
   "id": "49792a5b",
   "metadata": {},
   "outputs": [
    {
     "name": "stdout",
     "output_type": "stream",
     "text": [
      "a      1\n",
      "b     -3\n",
      "c    200\n",
      "d    -20\n",
      "dtype: int64\n"
     ]
    }
   ],
   "source": [
    "mySeries2['c']=200\n",
    "print(mySeries2)"
   ]
  },
  {
   "cell_type": "markdown",
   "id": "f9ce2bb9",
   "metadata": {},
   "source": [
    "# We can create a Series object from an existing array as follows:\n"
   ]
  },
  {
   "cell_type": "code",
   "execution_count": 46,
   "id": "a26d4c6b",
   "metadata": {},
   "outputs": [
    {
     "data": {
      "text/plain": [
       "0    1\n",
       "1    2\n",
       "2    3\n",
       "3    4\n",
       "dtype: int32"
      ]
     },
     "execution_count": 46,
     "metadata": {},
     "output_type": "execute_result"
    }
   ],
   "source": [
    "myarray=np.array([1,2,3,4])\n",
    "myseries3=pd.Series(myarray)\n",
    "myseries3"
   ]
  },
  {
   "cell_type": "code",
   "execution_count": 47,
   "id": "4c2685ae",
   "metadata": {},
   "outputs": [
    {
     "data": {
      "text/plain": [
       "2    3\n",
       "3    4\n",
       "dtype: int32"
      ]
     },
     "execution_count": 47,
     "metadata": {},
     "output_type": "execute_result"
    }
   ],
   "source": [
    "myseries3[myseries3>2]"
   ]
  },
  {
   "cell_type": "code",
   "execution_count": 51,
   "id": "5b86fcba",
   "metadata": {},
   "outputs": [
    {
     "data": {
      "text/plain": [
       "0    1\n",
       "dtype: int32"
      ]
     },
     "execution_count": 51,
     "metadata": {},
     "output_type": "execute_result"
    }
   ],
   "source": [
    "myseries3[myseries3<2]"
   ]
  },
  {
   "cell_type": "code",
   "execution_count": 49,
   "id": "a2a12c0c",
   "metadata": {},
   "outputs": [
    {
     "data": {
      "text/plain": [
       "1    2\n",
       "2    3\n",
       "3    4\n",
       "dtype: int32"
      ]
     },
     "execution_count": 49,
     "metadata": {},
     "output_type": "execute_result"
    }
   ],
   "source": [
    "myseries3[myseries3>=2]"
   ]
  },
  {
   "cell_type": "code",
   "execution_count": 55,
   "id": "d7073ad0",
   "metadata": {},
   "outputs": [
    {
     "data": {
      "text/plain": [
       "0    1\n",
       "1    2\n",
       "dtype: int32"
      ]
     },
     "execution_count": 55,
     "metadata": {},
     "output_type": "execute_result"
    }
   ],
   "source": [
    "myseries3[myseries3<=2]"
   ]
  },
  {
   "cell_type": "code",
   "execution_count": 53,
   "id": "8b6f7bfc",
   "metadata": {},
   "outputs": [
    {
     "data": {
      "text/plain": [
       "1    2\n",
       "0    1\n",
       "1    2\n",
       "0    1\n",
       "dtype: int32"
      ]
     },
     "execution_count": 53,
     "metadata": {},
     "output_type": "execute_result"
    }
   ],
   "source": [
    "myseries3[myseries3%2]"
   ]
  },
  {
   "cell_type": "code",
   "execution_count": 54,
   "id": "43f99015",
   "metadata": {},
   "outputs": [
    {
     "data": {
      "text/plain": [
       "0    0.000000\n",
       "1    0.693147\n",
       "2    1.098612\n",
       "3    1.386294\n",
       "dtype: float64"
      ]
     },
     "execution_count": 54,
     "metadata": {},
     "output_type": "execute_result"
    }
   ],
   "source": [
    "np.log(myseries3)"
   ]
  },
  {
   "cell_type": "code",
   "execution_count": 57,
   "id": "87f7164b",
   "metadata": {},
   "outputs": [
    {
     "name": "stderr",
     "output_type": "stream",
     "text": [
      "C:\\Users\\itoro_bo9ber6\\anaconda3\\lib\\site-packages\\pandas\\core\\arraylike.py:358: RuntimeWarning: invalid value encountered in log\n",
      "  result = getattr(ufunc, method)(*inputs, **kwargs)\n"
     ]
    },
    {
     "data": {
      "text/plain": [
       "a    0.000000\n",
       "b         NaN\n",
       "c    5.298317\n",
       "d         NaN\n",
       "dtype: float64"
      ]
     },
     "execution_count": 57,
     "metadata": {},
     "output_type": "execute_result"
    }
   ],
   "source": [
    "np.log(mySeries2)"
   ]
  },
  {
   "cell_type": "code",
   "execution_count": 58,
   "id": "c40316e5",
   "metadata": {},
   "outputs": [
    {
     "data": {
      "text/plain": [
       "a        1\n",
       "b        9\n",
       "c    40000\n",
       "d      400\n",
       "dtype: int64"
      ]
     },
     "execution_count": 58,
     "metadata": {},
     "output_type": "execute_result"
    }
   ],
   "source": [
    "np.square(mySeries2)"
   ]
  },
  {
   "cell_type": "code",
   "execution_count": 60,
   "id": "ef657fbb",
   "metadata": {},
   "outputs": [
    {
     "ename": "AttributeError",
     "evalue": "module 'numpy' has no attribute 'Square'",
     "output_type": "error",
     "traceback": [
      "\u001b[1;31m---------------------------------------------------------------------------\u001b[0m",
      "\u001b[1;31mAttributeError\u001b[0m                            Traceback (most recent call last)",
      "\u001b[1;32m<ipython-input-60-768bfe0142cc>\u001b[0m in \u001b[0;36m<module>\u001b[1;34m\u001b[0m\n\u001b[1;32m----> 1\u001b[1;33m \u001b[0mnp\u001b[0m\u001b[1;33m.\u001b[0m\u001b[0mSquare\u001b[0m\u001b[1;33m(\u001b[0m\u001b[0mmySeries3\u001b[0m\u001b[1;33m)\u001b[0m\u001b[1;33m\u001b[0m\u001b[1;33m\u001b[0m\u001b[0m\n\u001b[0m",
      "\u001b[1;32m~\\anaconda3\\lib\\site-packages\\numpy\\__init__.py\u001b[0m in \u001b[0;36m__getattr__\u001b[1;34m(attr)\u001b[0m\n\u001b[0;32m    301\u001b[0m                 \u001b[1;32mreturn\u001b[0m \u001b[0mTester\u001b[0m\u001b[1;33m\u001b[0m\u001b[1;33m\u001b[0m\u001b[0m\n\u001b[0;32m    302\u001b[0m \u001b[1;33m\u001b[0m\u001b[0m\n\u001b[1;32m--> 303\u001b[1;33m             raise AttributeError(\"module {!r} has no attribute \"\n\u001b[0m\u001b[0;32m    304\u001b[0m                                  \"{!r}\".format(__name__, attr))\n\u001b[0;32m    305\u001b[0m \u001b[1;33m\u001b[0m\u001b[0m\n",
      "\u001b[1;31mAttributeError\u001b[0m: module 'numpy' has no attribute 'Square'"
     ]
    }
   ],
   "source": [
    "np.square(mySeries3)"
   ]
  },
  {
   "cell_type": "code",
   "execution_count": 61,
   "id": "c0cbc26f",
   "metadata": {},
   "outputs": [
    {
     "data": {
      "text/plain": [
       "array([[[[[0, 0, 0, 0],\n",
       "          [0, 0, 0, 0],\n",
       "          [0, 0, 0, 0]],\n",
       "\n",
       "         [[0, 0, 0, 0],\n",
       "          [0, 0, 0, 0],\n",
       "          [0, 0, 0, 0]]]],\n",
       "\n",
       "\n",
       "\n",
       "       [[[[0, 0, 0, 0],\n",
       "          [0, 0, 0, 0],\n",
       "          [0, 0, 0, 0]],\n",
       "\n",
       "         [[1, 1, 1, 1],\n",
       "          [1, 1, 1, 1],\n",
       "          [1, 1, 1, 1]]]],\n",
       "\n",
       "\n",
       "\n",
       "       [[[[0, 0, 0, 0],\n",
       "          [1, 1, 1, 1],\n",
       "          [2, 2, 2, 2]],\n",
       "\n",
       "         [[0, 0, 0, 0],\n",
       "          [1, 1, 1, 1],\n",
       "          [2, 2, 2, 2]]]],\n",
       "\n",
       "\n",
       "\n",
       "       [[[[0, 1, 2, 3],\n",
       "          [0, 1, 2, 3],\n",
       "          [0, 1, 2, 3]],\n",
       "\n",
       "         [[0, 1, 2, 3],\n",
       "          [0, 1, 2, 3],\n",
       "          [0, 1, 2, 3]]]]])"
      ]
     },
     "execution_count": 61,
     "metadata": {},
     "output_type": "execute_result"
    }
   ],
   "source": [
    "np.indices(myseries3)"
   ]
  },
  {
   "cell_type": "code",
   "execution_count": 63,
   "id": "f5ec1f26",
   "metadata": {},
   "outputs": [
    {
     "data": {
      "text/plain": [
       "0    0.540302\n",
       "1   -0.416147\n",
       "2   -0.989992\n",
       "3   -0.653644\n",
       "dtype: float64"
      ]
     },
     "execution_count": 63,
     "metadata": {},
     "output_type": "execute_result"
    }
   ],
   "source": [
    "np.cos(myseries3)"
   ]
  },
  {
   "cell_type": "code",
   "execution_count": 64,
   "id": "d137ba90",
   "metadata": {},
   "outputs": [
    {
     "data": {
      "text/plain": [
       "array([1, 1, 1])"
      ]
     },
     "execution_count": 64,
     "metadata": {},
     "output_type": "execute_result"
    }
   ],
   "source": [
    "np.diff(myseries3)"
   ]
  },
  {
   "cell_type": "code",
   "execution_count": 65,
   "id": "c5ff685e",
   "metadata": {},
   "outputs": [
    {
     "data": {
      "text/plain": [
       "0    0.841471\n",
       "1    0.909297\n",
       "2    0.141120\n",
       "3   -0.756802\n",
       "dtype: float64"
      ]
     },
     "execution_count": 65,
     "metadata": {},
     "output_type": "execute_result"
    }
   ],
   "source": [
    "np.sin(myseries3)"
   ]
  },
  {
   "cell_type": "code",
   "execution_count": 66,
   "id": "28b11d08",
   "metadata": {},
   "outputs": [
    {
     "data": {
      "text/plain": [
       "0    1.557408\n",
       "1   -2.185040\n",
       "2   -0.142547\n",
       "3    1.157821\n",
       "dtype: float64"
      ]
     },
     "execution_count": 66,
     "metadata": {},
     "output_type": "execute_result"
    }
   ],
   "source": [
    "np.tan(myseries3)"
   ]
  },
  {
   "cell_type": "markdown",
   "id": "fd9d3fd5",
   "metadata": {},
   "source": [
    "# We can a the Series, mycolor to perform some common operations that can be applied to a Series\n",
    "Example: SomeColors"
   ]
  },
  {
   "cell_type": "code",
   "execution_count": 71,
   "id": "a6e7d8ed",
   "metadata": {},
   "outputs": [
    {
     "data": {
      "text/plain": [
       "white     1\n",
       "black     2\n",
       "green     3\n",
       "blue      4\n",
       "yellow    5\n",
       "blue      4\n",
       "green     3\n",
       "black     2\n",
       "white     1\n",
       "dtype: int64"
      ]
     },
     "execution_count": 71,
     "metadata": {},
     "output_type": "execute_result"
    }
   ],
   "source": [
    "mycolours=pd.Series([1,2,3,4,5,4,3,2,1], index=['white', 'black','green','blue','yellow', 'blue','green','black','white'])\n",
    "mycolours"
   ]
  },
  {
   "cell_type": "code",
   "execution_count": 68,
   "id": "c98cedc9",
   "metadata": {},
   "outputs": [
    {
     "data": {
      "text/plain": [
       "array([1, 2, 3, 4, 5], dtype=int64)"
      ]
     },
     "execution_count": 68,
     "metadata": {},
     "output_type": "execute_result"
    }
   ],
   "source": [
    "mycolours.unique()"
   ]
  },
  {
   "cell_type": "code",
   "execution_count": 70,
   "id": "3c9aef79",
   "metadata": {},
   "outputs": [
    {
     "data": {
      "text/plain": [
       "1    2\n",
       "2    2\n",
       "3    2\n",
       "4    2\n",
       "5    1\n",
       "dtype: int64"
      ]
     },
     "execution_count": 70,
     "metadata": {},
     "output_type": "execute_result"
    }
   ],
   "source": [
    "mycolours.value_counts()"
   ]
  },
  {
   "cell_type": "code",
   "execution_count": 72,
   "id": "4254a002",
   "metadata": {},
   "outputs": [
    {
     "data": {
      "text/plain": [
       "white     False\n",
       "black     False\n",
       "green     False\n",
       "blue      False\n",
       "yellow     True\n",
       "blue      False\n",
       "green     False\n",
       "black     False\n",
       "white     False\n",
       "dtype: bool"
      ]
     },
     "execution_count": 72,
     "metadata": {},
     "output_type": "execute_result"
    }
   ],
   "source": [
    "mycolours.isin([5,7])"
   ]
  },
  {
   "cell_type": "code",
   "execution_count": 73,
   "id": "f2382a99",
   "metadata": {},
   "outputs": [
    {
     "data": {
      "text/plain": [
       "white     False\n",
       "black     False\n",
       "green     False\n",
       "blue      False\n",
       "yellow    False\n",
       "blue      False\n",
       "green     False\n",
       "black     False\n",
       "white     False\n",
       "dtype: bool"
      ]
     },
     "execution_count": 73,
     "metadata": {},
     "output_type": "execute_result"
    }
   ],
   "source": [
    "mycolours.isin([6])"
   ]
  },
  {
   "cell_type": "code",
   "execution_count": 74,
   "id": "04eca759",
   "metadata": {},
   "outputs": [
    {
     "data": {
      "text/plain": [
       "white     False\n",
       "black      True\n",
       "green     False\n",
       "blue      False\n",
       "yellow    False\n",
       "blue      False\n",
       "green     False\n",
       "black      True\n",
       "white     False\n",
       "dtype: bool"
      ]
     },
     "execution_count": 74,
     "metadata": {},
     "output_type": "execute_result"
    }
   ],
   "source": [
    "mycolours.isin([2])"
   ]
  },
  {
   "cell_type": "code",
   "execution_count": 75,
   "id": "76bcddbc",
   "metadata": {},
   "outputs": [
    {
     "data": {
      "text/plain": [
       "white     False\n",
       "black     False\n",
       "green     False\n",
       "blue      False\n",
       "yellow     True\n",
       "blue      False\n",
       "green     False\n",
       "black     False\n",
       "white     False\n",
       "dtype: bool"
      ]
     },
     "execution_count": 75,
     "metadata": {},
     "output_type": "execute_result"
    }
   ],
   "source": [
    "mycolours.isin([5,7])"
   ]
  },
  {
   "cell_type": "markdown",
   "id": "938250c0",
   "metadata": {},
   "source": [
    "# To get filtered Series"
   ]
  },
  {
   "cell_type": "code",
   "execution_count": 76,
   "id": "a4c74f95",
   "metadata": {},
   "outputs": [
    {
     "data": {
      "text/plain": [
       "yellow    5\n",
       "dtype: int64"
      ]
     },
     "execution_count": 76,
     "metadata": {},
     "output_type": "execute_result"
    }
   ],
   "source": [
    "mycolours[mycolours.isin([5,7])]"
   ]
  },
  {
   "cell_type": "code",
   "execution_count": 79,
   "id": "9c7c6f05",
   "metadata": {},
   "outputs": [
    {
     "data": {
      "text/plain": [
       "green     3\n",
       "yellow    5\n",
       "green     3\n",
       "dtype: int64"
      ]
     },
     "execution_count": 79,
     "metadata": {},
     "output_type": "execute_result"
    }
   ],
   "source": [
    "mycolours[mycolours.isin([3,5,8])]"
   ]
  },
  {
   "cell_type": "code",
   "execution_count": 80,
   "id": "765971d8",
   "metadata": {},
   "outputs": [
    {
     "data": {
      "text/plain": [
       "green     3\n",
       "yellow    5\n",
       "green     3\n",
       "dtype: int64"
      ]
     },
     "execution_count": 80,
     "metadata": {},
     "output_type": "execute_result"
    }
   ],
   "source": [
    "mycolours[mycolours.isin([3,5,7,9])]"
   ]
  },
  {
   "cell_type": "code",
   "execution_count": 81,
   "id": "d16d34e4",
   "metadata": {},
   "outputs": [
    {
     "data": {
      "text/plain": [
       "white    1\n",
       "black    2\n",
       "blue     4\n",
       "blue     4\n",
       "black    2\n",
       "white    1\n",
       "dtype: int64"
      ]
     },
     "execution_count": 81,
     "metadata": {},
     "output_type": "execute_result"
    }
   ],
   "source": [
    "mycolours[mycolours.isin([2,1,4])]"
   ]
  },
  {
   "cell_type": "markdown",
   "id": "914ab59f",
   "metadata": {},
   "source": [
    "# Creating Series from an already defined dictionary\n"
   ]
  },
  {
   "cell_type": "code",
   "execution_count": 83,
   "id": "a21c54ef",
   "metadata": {},
   "outputs": [
    {
     "data": {
      "text/plain": [
       "White     200\n",
       "Black     300\n",
       "Red       500\n",
       "Green    1000\n",
       "dtype: int64"
      ]
     },
     "execution_count": 83,
     "metadata": {},
     "output_type": "execute_result"
    }
   ],
   "source": [
    "mydict={'White':200, 'Black':300, 'Red':500, 'Green':1000}\n",
    "myseries=pd.Series(mydict)\n",
    "myseries"
   ]
  },
  {
   "cell_type": "markdown",
   "id": "2df2dd83",
   "metadata": {},
   "source": [
    "# The DataFrame"
   ]
  },
  {
   "cell_type": "code",
   "execution_count": 84,
   "id": "f90e740b",
   "metadata": {},
   "outputs": [
    {
     "ename": "SyntaxError",
     "evalue": "invalid syntax (<ipython-input-84-9b1ec7ebf853>, line 1)",
     "output_type": "error",
     "traceback": [
      "\u001b[1;36m  File \u001b[1;32m\"<ipython-input-84-9b1ec7ebf853>\"\u001b[1;36m, line \u001b[1;32m1\u001b[0m\n\u001b[1;33m    import pandas as pd.Series\u001b[0m\n\u001b[1;37m                       ^\u001b[0m\n\u001b[1;31mSyntaxError\u001b[0m\u001b[1;31m:\u001b[0m invalid syntax\n"
     ]
    }
   ],
   "source": [
    "import pandas as pd.Series"
   ]
  },
  {
   "cell_type": "code",
   "execution_count": 94,
   "id": "5830142a",
   "metadata": {},
   "outputs": [
    {
     "data": {
      "text/html": [
       "<div>\n",
       "<style scoped>\n",
       "    .dataframe tbody tr th:only-of-type {\n",
       "        vertical-align: middle;\n",
       "    }\n",
       "\n",
       "    .dataframe tbody tr th {\n",
       "        vertical-align: top;\n",
       "    }\n",
       "\n",
       "    .dataframe thead th {\n",
       "        text-align: right;\n",
       "    }\n",
       "</style>\n",
       "<table border=\"1\" class=\"dataframe\">\n",
       "  <thead>\n",
       "    <tr style=\"text-align: right;\">\n",
       "      <th></th>\n",
       "      <th>Employee Name</th>\n",
       "      <th>Specialization</th>\n",
       "      <th>Qualification</th>\n",
       "      <th>Experience (in years)</th>\n",
       "      <th>Gender</th>\n",
       "      <th>Address</th>\n",
       "      <th>Phone</th>\n",
       "      <th>Sports</th>\n",
       "      <th>Religion</th>\n",
       "      <th>Marital Status</th>\n",
       "      <th>Best Food</th>\n",
       "    </tr>\n",
       "  </thead>\n",
       "  <tbody>\n",
       "    <tr>\n",
       "      <th>0</th>\n",
       "      <td>Jaja</td>\n",
       "      <td>Python</td>\n",
       "      <td>FSLC</td>\n",
       "      <td>3</td>\n",
       "      <td>M</td>\n",
       "      <td>Uyo</td>\n",
       "      <td>08024687391</td>\n",
       "      <td>Basket ball</td>\n",
       "      <td>Christianity</td>\n",
       "      <td>Married</td>\n",
       "      <td>Jellof Rice</td>\n",
       "    </tr>\n",
       "    <tr>\n",
       "      <th>1</th>\n",
       "      <td>Edidiong</td>\n",
       "      <td>Data Science</td>\n",
       "      <td>SSCE</td>\n",
       "      <td>5</td>\n",
       "      <td>F</td>\n",
       "      <td>Ikot Abasi</td>\n",
       "      <td>08034567899</td>\n",
       "      <td>Volleyball</td>\n",
       "      <td>Islam</td>\n",
       "      <td>Single</td>\n",
       "      <td>Boiled Yam with Fish Stew</td>\n",
       "    </tr>\n",
       "    <tr>\n",
       "      <th>2</th>\n",
       "      <td>Itoro</td>\n",
       "      <td>Data preparation</td>\n",
       "      <td>B.Sc.</td>\n",
       "      <td>8</td>\n",
       "      <td>M</td>\n",
       "      <td>Ini</td>\n",
       "      <td>070344556677</td>\n",
       "      <td>Foot ball</td>\n",
       "      <td>Budhism</td>\n",
       "      <td>Complicated</td>\n",
       "      <td>White Soup with Eba</td>\n",
       "    </tr>\n",
       "    <tr>\n",
       "      <th>3</th>\n",
       "      <td>Ubong</td>\n",
       "      <td>Data Analysis</td>\n",
       "      <td>MSc.</td>\n",
       "      <td>2</td>\n",
       "      <td>F</td>\n",
       "      <td>Ibesikpo</td>\n",
       "      <td>080266777664</td>\n",
       "      <td>Swimming</td>\n",
       "      <td>Judaism</td>\n",
       "      <td>Divorced</td>\n",
       "      <td>Coconut Rice</td>\n",
       "    </tr>\n",
       "    <tr>\n",
       "      <th>4</th>\n",
       "      <td>Uduak</td>\n",
       "      <td>Machine Learning</td>\n",
       "      <td>PhD</td>\n",
       "      <td>4</td>\n",
       "      <td>M</td>\n",
       "      <td>Uruan</td>\n",
       "      <td>090234444400</td>\n",
       "      <td>Skiing</td>\n",
       "      <td>Traditionalist</td>\n",
       "      <td>Married</td>\n",
       "      <td>Edikang ikong with Plain Rice</td>\n",
       "    </tr>\n",
       "  </tbody>\n",
       "</table>\n",
       "</div>"
      ],
      "text/plain": [
       "  Employee Name    Specialization Qualification  Experience (in years) Gender  \\\n",
       "0          Jaja            Python          FSLC                      3      M   \n",
       "1      Edidiong      Data Science          SSCE                      5      F   \n",
       "2         Itoro  Data preparation         B.Sc.                      8      M   \n",
       "3         Ubong     Data Analysis          MSc.                      2      F   \n",
       "4         Uduak  Machine Learning           PhD                      4      M   \n",
       "\n",
       "      Address         Phone       Sports        Religion Marital Status  \\\n",
       "0         Uyo   08024687391  Basket ball    Christianity        Married   \n",
       "1  Ikot Abasi   08034567899   Volleyball           Islam         Single   \n",
       "2         Ini  070344556677    Foot ball         Budhism    Complicated   \n",
       "3    Ibesikpo  080266777664     Swimming         Judaism       Divorced   \n",
       "4       Uruan  090234444400       Skiing  Traditionalist        Married   \n",
       "\n",
       "                       Best Food  \n",
       "0                    Jellof Rice  \n",
       "1      Boiled Yam with Fish Stew  \n",
       "2            White Soup with Eba  \n",
       "3                   Coconut Rice  \n",
       "4  Edikang ikong with Plain Rice  "
      ]
     },
     "execution_count": 94,
     "metadata": {},
     "output_type": "execute_result"
    }
   ],
   "source": [
    "mydata={'Employee Name':['Jaja', 'Edidiong','Itoro','Ubong','Uduak'],\n",
    "       'Specialization':['Python', 'Data Science', 'Data preparation', 'Data Analysis','Machine Learning'],\n",
    "       'Qualification':['FSLC', 'SSCE', 'B.Sc.', 'MSc.', 'PhD'],\n",
    "       'Experience (in years)':[3,5,8,2,4],\n",
    "       'Gender': ['M','F','M','F','M'],\n",
    "        'Address':['Uyo','Ikot Abasi','Ini','Ibesikpo','Uruan'],\n",
    "       'Phone':['08024687391', '08034567899','070344556677','080266777664','090234444400'],\n",
    "        'Sports':['Basket ball','Volleyball','Foot ball','Swimming','Skiing'],\n",
    "        'Religion':['Christianity','Islam','Budhism','Judaism','Traditionalist'],\n",
    "        'Marital Status':['Married', 'Single','Complicated','Divorced','Married'],\n",
    "       'Best Food':['Jellof Rice', 'Boiled Yam with Fish Stew', 'White Soup with Eba','Coconut Rice','Edikang ikong with Plain Rice'],}\n",
    "myframe=pd.DataFrame(mydata)# note capital D and F in DataFrame()constructor\n",
    "myframe"
   ]
  },
  {
   "cell_type": "markdown",
   "id": "97ee265b",
   "metadata": {},
   "source": [
    "# We can select an information from our DataFrame in any order/ Slicing"
   ]
  },
  {
   "cell_type": "code",
   "execution_count": 95,
   "id": "6c150539",
   "metadata": {},
   "outputs": [
    {
     "data": {
      "text/html": [
       "<div>\n",
       "<style scoped>\n",
       "    .dataframe tbody tr th:only-of-type {\n",
       "        vertical-align: middle;\n",
       "    }\n",
       "\n",
       "    .dataframe tbody tr th {\n",
       "        vertical-align: top;\n",
       "    }\n",
       "\n",
       "    .dataframe thead th {\n",
       "        text-align: right;\n",
       "    }\n",
       "</style>\n",
       "<table border=\"1\" class=\"dataframe\">\n",
       "  <thead>\n",
       "    <tr style=\"text-align: right;\">\n",
       "      <th></th>\n",
       "      <th>Experience (in years)</th>\n",
       "      <th>Employee Name</th>\n",
       "      <th>Phone</th>\n",
       "      <th>Religion</th>\n",
       "    </tr>\n",
       "  </thead>\n",
       "  <tbody>\n",
       "    <tr>\n",
       "      <th>0</th>\n",
       "      <td>3</td>\n",
       "      <td>Jaja</td>\n",
       "      <td>08024687391</td>\n",
       "      <td>Christianity</td>\n",
       "    </tr>\n",
       "    <tr>\n",
       "      <th>1</th>\n",
       "      <td>5</td>\n",
       "      <td>Edidiong</td>\n",
       "      <td>08034567899</td>\n",
       "      <td>Islam</td>\n",
       "    </tr>\n",
       "    <tr>\n",
       "      <th>2</th>\n",
       "      <td>8</td>\n",
       "      <td>Itoro</td>\n",
       "      <td>070344556677</td>\n",
       "      <td>Budhism</td>\n",
       "    </tr>\n",
       "    <tr>\n",
       "      <th>3</th>\n",
       "      <td>2</td>\n",
       "      <td>Ubong</td>\n",
       "      <td>080266777664</td>\n",
       "      <td>Judaism</td>\n",
       "    </tr>\n",
       "    <tr>\n",
       "      <th>4</th>\n",
       "      <td>4</td>\n",
       "      <td>Uduak</td>\n",
       "      <td>090234444400</td>\n",
       "      <td>Traditionalist</td>\n",
       "    </tr>\n",
       "  </tbody>\n",
       "</table>\n",
       "</div>"
      ],
      "text/plain": [
       "   Experience (in years) Employee Name         Phone        Religion\n",
       "0                      3          Jaja   08024687391    Christianity\n",
       "1                      5      Edidiong   08034567899           Islam\n",
       "2                      8         Itoro  070344556677         Budhism\n",
       "3                      2         Ubong  080266777664         Judaism\n",
       "4                      4         Uduak  090234444400  Traditionalist"
      ]
     },
     "execution_count": 95,
     "metadata": {},
     "output_type": "execute_result"
    }
   ],
   "source": [
    "myframe2=pd.DataFrame(mydata, columns=['Experience (in years)', 'Employee Name', 'Phone', 'Religion'])\n",
    "myframe2"
   ]
  },
  {
   "cell_type": "code",
   "execution_count": 98,
   "id": "76638f4f",
   "metadata": {},
   "outputs": [
    {
     "data": {
      "text/html": [
       "<div>\n",
       "<style scoped>\n",
       "    .dataframe tbody tr th:only-of-type {\n",
       "        vertical-align: middle;\n",
       "    }\n",
       "\n",
       "    .dataframe tbody tr th {\n",
       "        vertical-align: top;\n",
       "    }\n",
       "\n",
       "    .dataframe thead th {\n",
       "        text-align: right;\n",
       "    }\n",
       "</style>\n",
       "<table border=\"1\" class=\"dataframe\">\n",
       "  <thead>\n",
       "    <tr style=\"text-align: right;\">\n",
       "      <th></th>\n",
       "      <th>Best Food</th>\n",
       "      <th>Employee Name</th>\n",
       "      <th>Phone</th>\n",
       "      <th>Marital Status</th>\n",
       "      <th>Sports</th>\n",
       "      <th>Qualification</th>\n",
       "    </tr>\n",
       "  </thead>\n",
       "  <tbody>\n",
       "    <tr>\n",
       "      <th>0</th>\n",
       "      <td>Jellof Rice</td>\n",
       "      <td>Jaja</td>\n",
       "      <td>08024687391</td>\n",
       "      <td>Married</td>\n",
       "      <td>Basket ball</td>\n",
       "      <td>FSLC</td>\n",
       "    </tr>\n",
       "    <tr>\n",
       "      <th>1</th>\n",
       "      <td>Boiled Yam with Fish Stew</td>\n",
       "      <td>Edidiong</td>\n",
       "      <td>08034567899</td>\n",
       "      <td>Single</td>\n",
       "      <td>Volleyball</td>\n",
       "      <td>SSCE</td>\n",
       "    </tr>\n",
       "    <tr>\n",
       "      <th>2</th>\n",
       "      <td>White Soup with Eba</td>\n",
       "      <td>Itoro</td>\n",
       "      <td>070344556677</td>\n",
       "      <td>Complicated</td>\n",
       "      <td>Foot ball</td>\n",
       "      <td>B.Sc.</td>\n",
       "    </tr>\n",
       "    <tr>\n",
       "      <th>3</th>\n",
       "      <td>Coconut Rice</td>\n",
       "      <td>Ubong</td>\n",
       "      <td>080266777664</td>\n",
       "      <td>Divorced</td>\n",
       "      <td>Swimming</td>\n",
       "      <td>MSc.</td>\n",
       "    </tr>\n",
       "    <tr>\n",
       "      <th>4</th>\n",
       "      <td>Edikang ikong with Plain Rice</td>\n",
       "      <td>Uduak</td>\n",
       "      <td>090234444400</td>\n",
       "      <td>Married</td>\n",
       "      <td>Skiing</td>\n",
       "      <td>PhD</td>\n",
       "    </tr>\n",
       "  </tbody>\n",
       "</table>\n",
       "</div>"
      ],
      "text/plain": [
       "                       Best Food Employee Name         Phone Marital Status  \\\n",
       "0                    Jellof Rice          Jaja   08024687391        Married   \n",
       "1      Boiled Yam with Fish Stew      Edidiong   08034567899         Single   \n",
       "2            White Soup with Eba         Itoro  070344556677    Complicated   \n",
       "3                   Coconut Rice         Ubong  080266777664       Divorced   \n",
       "4  Edikang ikong with Plain Rice         Uduak  090234444400        Married   \n",
       "\n",
       "        Sports Qualification  \n",
       "0  Basket ball          FSLC  \n",
       "1   Volleyball          SSCE  \n",
       "2    Foot ball         B.Sc.  \n",
       "3     Swimming          MSc.  \n",
       "4       Skiing           PhD  "
      ]
     },
     "execution_count": 98,
     "metadata": {},
     "output_type": "execute_result"
    }
   ],
   "source": [
    "myframe3=pd.DataFrame(mydata, columns=['Best Food', 'Employee Name', 'Phone', 'Marital Status','Sports','Qualification'])\n",
    "myframe3"
   ]
  },
  {
   "cell_type": "code",
   "execution_count": 103,
   "id": "ad5facee",
   "metadata": {},
   "outputs": [
    {
     "data": {
      "text/html": [
       "<div>\n",
       "<style scoped>\n",
       "    .dataframe tbody tr th:only-of-type {\n",
       "        vertical-align: middle;\n",
       "    }\n",
       "\n",
       "    .dataframe tbody tr th {\n",
       "        vertical-align: top;\n",
       "    }\n",
       "\n",
       "    .dataframe thead th {\n",
       "        text-align: right;\n",
       "    }\n",
       "</style>\n",
       "<table border=\"1\" class=\"dataframe\">\n",
       "  <thead>\n",
       "    <tr style=\"text-align: right;\">\n",
       "      <th></th>\n",
       "      <th>Employee Name</th>\n",
       "      <th>Specialization</th>\n",
       "      <th>Qualification</th>\n",
       "      <th>Experience (in years)</th>\n",
       "      <th>Gender</th>\n",
       "      <th>Address</th>\n",
       "      <th>Phone</th>\n",
       "      <th>Sports</th>\n",
       "      <th>Religion</th>\n",
       "      <th>Marital Status</th>\n",
       "      <th>Best Food</th>\n",
       "    </tr>\n",
       "  </thead>\n",
       "  <tbody>\n",
       "    <tr>\n",
       "      <th>I</th>\n",
       "      <td>Jaja</td>\n",
       "      <td>Python</td>\n",
       "      <td>FSLC</td>\n",
       "      <td>3</td>\n",
       "      <td>M</td>\n",
       "      <td>Uyo</td>\n",
       "      <td>08024687391</td>\n",
       "      <td>Basket ball</td>\n",
       "      <td>Christianity</td>\n",
       "      <td>Married</td>\n",
       "      <td>Jellof Rice</td>\n",
       "    </tr>\n",
       "    <tr>\n",
       "      <th>II</th>\n",
       "      <td>Edidiong</td>\n",
       "      <td>Data Science</td>\n",
       "      <td>SSCE</td>\n",
       "      <td>5</td>\n",
       "      <td>F</td>\n",
       "      <td>Ikot Abasi</td>\n",
       "      <td>08034567899</td>\n",
       "      <td>Volleyball</td>\n",
       "      <td>Islam</td>\n",
       "      <td>Single</td>\n",
       "      <td>Boiled Yam with Fish Stew</td>\n",
       "    </tr>\n",
       "    <tr>\n",
       "      <th>III</th>\n",
       "      <td>Itoro</td>\n",
       "      <td>Data preparation</td>\n",
       "      <td>B.Sc.</td>\n",
       "      <td>8</td>\n",
       "      <td>M</td>\n",
       "      <td>Ini</td>\n",
       "      <td>070344556677</td>\n",
       "      <td>Foot ball</td>\n",
       "      <td>Budhism</td>\n",
       "      <td>Complicated</td>\n",
       "      <td>White Soup with Eba</td>\n",
       "    </tr>\n",
       "    <tr>\n",
       "      <th>IV</th>\n",
       "      <td>Ubong</td>\n",
       "      <td>Data Analysis</td>\n",
       "      <td>MSc.</td>\n",
       "      <td>2</td>\n",
       "      <td>F</td>\n",
       "      <td>Ibesikpo</td>\n",
       "      <td>080266777664</td>\n",
       "      <td>Swimming</td>\n",
       "      <td>Judaism</td>\n",
       "      <td>Divorced</td>\n",
       "      <td>Coconut Rice</td>\n",
       "    </tr>\n",
       "    <tr>\n",
       "      <th>V</th>\n",
       "      <td>Uduak</td>\n",
       "      <td>Machine Learning</td>\n",
       "      <td>PhD</td>\n",
       "      <td>4</td>\n",
       "      <td>M</td>\n",
       "      <td>Uruan</td>\n",
       "      <td>090234444400</td>\n",
       "      <td>Skiing</td>\n",
       "      <td>Traditionalist</td>\n",
       "      <td>Married</td>\n",
       "      <td>Edikang ikong with Plain Rice</td>\n",
       "    </tr>\n",
       "  </tbody>\n",
       "</table>\n",
       "</div>"
      ],
      "text/plain": [
       "    Employee Name    Specialization Qualification  Experience (in years)  \\\n",
       "I            Jaja            Python          FSLC                      3   \n",
       "II       Edidiong      Data Science          SSCE                      5   \n",
       "III         Itoro  Data preparation         B.Sc.                      8   \n",
       "IV          Ubong     Data Analysis          MSc.                      2   \n",
       "V           Uduak  Machine Learning           PhD                      4   \n",
       "\n",
       "    Gender     Address         Phone       Sports        Religion  \\\n",
       "I        M         Uyo   08024687391  Basket ball    Christianity   \n",
       "II       F  Ikot Abasi   08034567899   Volleyball           Islam   \n",
       "III      M         Ini  070344556677    Foot ball         Budhism   \n",
       "IV       F    Ibesikpo  080266777664     Swimming         Judaism   \n",
       "V        M       Uruan  090234444400       Skiing  Traditionalist   \n",
       "\n",
       "    Marital Status                      Best Food  \n",
       "I          Married                    Jellof Rice  \n",
       "II          Single      Boiled Yam with Fish Stew  \n",
       "III    Complicated            White Soup with Eba  \n",
       "IV        Divorced                   Coconut Rice  \n",
       "V          Married  Edikang ikong with Plain Rice  "
      ]
     },
     "execution_count": 103,
     "metadata": {},
     "output_type": "execute_result"
    }
   ],
   "source": [
    "myframe4=pd.DataFrame(mydata, index=['I', 'II', 'III', 'IV','V'])\n",
    "myframe4"
   ]
  },
  {
   "cell_type": "code",
   "execution_count": 105,
   "id": "00818fc0",
   "metadata": {},
   "outputs": [
    {
     "data": {
      "text/html": [
       "<div>\n",
       "<style scoped>\n",
       "    .dataframe tbody tr th:only-of-type {\n",
       "        vertical-align: middle;\n",
       "    }\n",
       "\n",
       "    .dataframe tbody tr th {\n",
       "        vertical-align: top;\n",
       "    }\n",
       "\n",
       "    .dataframe thead th {\n",
       "        text-align: right;\n",
       "    }\n",
       "</style>\n",
       "<table border=\"1\" class=\"dataframe\">\n",
       "  <thead>\n",
       "    <tr style=\"text-align: right;\">\n",
       "      <th></th>\n",
       "      <th>Employee Name</th>\n",
       "      <th>Specialization</th>\n",
       "      <th>Qualification</th>\n",
       "      <th>Experience (in years)</th>\n",
       "      <th>Gender</th>\n",
       "      <th>Address</th>\n",
       "      <th>Phone</th>\n",
       "      <th>Sports</th>\n",
       "      <th>Religion</th>\n",
       "      <th>Marital Status</th>\n",
       "      <th>Best Food</th>\n",
       "    </tr>\n",
       "  </thead>\n",
       "  <tbody>\n",
       "    <tr>\n",
       "      <th>1</th>\n",
       "      <td>Jaja</td>\n",
       "      <td>Python</td>\n",
       "      <td>FSLC</td>\n",
       "      <td>3</td>\n",
       "      <td>M</td>\n",
       "      <td>Uyo</td>\n",
       "      <td>08024687391</td>\n",
       "      <td>Basket ball</td>\n",
       "      <td>Christianity</td>\n",
       "      <td>Married</td>\n",
       "      <td>Jellof Rice</td>\n",
       "    </tr>\n",
       "    <tr>\n",
       "      <th>2</th>\n",
       "      <td>Edidiong</td>\n",
       "      <td>Data Science</td>\n",
       "      <td>SSCE</td>\n",
       "      <td>5</td>\n",
       "      <td>F</td>\n",
       "      <td>Ikot Abasi</td>\n",
       "      <td>08034567899</td>\n",
       "      <td>Volleyball</td>\n",
       "      <td>Islam</td>\n",
       "      <td>Single</td>\n",
       "      <td>Boiled Yam with Fish Stew</td>\n",
       "    </tr>\n",
       "    <tr>\n",
       "      <th>3</th>\n",
       "      <td>Itoro</td>\n",
       "      <td>Data preparation</td>\n",
       "      <td>B.Sc.</td>\n",
       "      <td>8</td>\n",
       "      <td>M</td>\n",
       "      <td>Ini</td>\n",
       "      <td>070344556677</td>\n",
       "      <td>Foot ball</td>\n",
       "      <td>Budhism</td>\n",
       "      <td>Complicated</td>\n",
       "      <td>White Soup with Eba</td>\n",
       "    </tr>\n",
       "    <tr>\n",
       "      <th>4</th>\n",
       "      <td>Ubong</td>\n",
       "      <td>Data Analysis</td>\n",
       "      <td>MSc.</td>\n",
       "      <td>2</td>\n",
       "      <td>F</td>\n",
       "      <td>Ibesikpo</td>\n",
       "      <td>080266777664</td>\n",
       "      <td>Swimming</td>\n",
       "      <td>Judaism</td>\n",
       "      <td>Divorced</td>\n",
       "      <td>Coconut Rice</td>\n",
       "    </tr>\n",
       "    <tr>\n",
       "      <th>5</th>\n",
       "      <td>Uduak</td>\n",
       "      <td>Machine Learning</td>\n",
       "      <td>PhD</td>\n",
       "      <td>4</td>\n",
       "      <td>M</td>\n",
       "      <td>Uruan</td>\n",
       "      <td>090234444400</td>\n",
       "      <td>Skiing</td>\n",
       "      <td>Traditionalist</td>\n",
       "      <td>Married</td>\n",
       "      <td>Edikang ikong with Plain Rice</td>\n",
       "    </tr>\n",
       "  </tbody>\n",
       "</table>\n",
       "</div>"
      ],
      "text/plain": [
       "  Employee Name    Specialization Qualification  Experience (in years) Gender  \\\n",
       "1          Jaja            Python          FSLC                      3      M   \n",
       "2      Edidiong      Data Science          SSCE                      5      F   \n",
       "3         Itoro  Data preparation         B.Sc.                      8      M   \n",
       "4         Ubong     Data Analysis          MSc.                      2      F   \n",
       "5         Uduak  Machine Learning           PhD                      4      M   \n",
       "\n",
       "      Address         Phone       Sports        Religion Marital Status  \\\n",
       "1         Uyo   08024687391  Basket ball    Christianity        Married   \n",
       "2  Ikot Abasi   08034567899   Volleyball           Islam         Single   \n",
       "3         Ini  070344556677    Foot ball         Budhism    Complicated   \n",
       "4    Ibesikpo  080266777664     Swimming         Judaism       Divorced   \n",
       "5       Uruan  090234444400       Skiing  Traditionalist        Married   \n",
       "\n",
       "                       Best Food  \n",
       "1                    Jellof Rice  \n",
       "2      Boiled Yam with Fish Stew  \n",
       "3            White Soup with Eba  \n",
       "4                   Coconut Rice  \n",
       "5  Edikang ikong with Plain Rice  "
      ]
     },
     "execution_count": 105,
     "metadata": {},
     "output_type": "execute_result"
    }
   ],
   "source": [
    "myframe5=pd.DataFrame(mydata, index=['1', '2', '3','4','5'])\n",
    "myframe5"
   ]
  },
  {
   "cell_type": "code",
   "execution_count": 109,
   "id": "06d2406c",
   "metadata": {},
   "outputs": [
    {
     "data": {
      "text/plain": [
       "array([[ 0,  1,  2,  3,  4],\n",
       "       [ 5,  6,  7,  8,  9],\n",
       "       [10, 11, 12, 13, 14]])"
      ]
     },
     "execution_count": 109,
     "metadata": {},
     "output_type": "execute_result"
    }
   ],
   "source": [
    "np.arange(15).reshape((3,5))"
   ]
  },
  {
   "cell_type": "markdown",
   "id": "7128c248",
   "metadata": {},
   "source": [
    "# 2-dimensional array\n"
   ]
  },
  {
   "cell_type": "code",
   "execution_count": 120,
   "id": "3d9c8df0",
   "metadata": {},
   "outputs": [
    {
     "data": {
      "text/html": [
       "<div>\n",
       "<style scoped>\n",
       "    .dataframe tbody tr th:only-of-type {\n",
       "        vertical-align: middle;\n",
       "    }\n",
       "\n",
       "    .dataframe tbody tr th {\n",
       "        vertical-align: top;\n",
       "    }\n",
       "\n",
       "    .dataframe thead th {\n",
       "        text-align: right;\n",
       "    }\n",
       "</style>\n",
       "<table border=\"1\" class=\"dataframe\">\n",
       "  <thead>\n",
       "    <tr style=\"text-align: right;\">\n",
       "      <th></th>\n",
       "      <th>col1</th>\n",
       "      <th>col2</th>\n",
       "      <th>col3</th>\n",
       "      <th>col4</th>\n",
       "      <th>col5</th>\n",
       "    </tr>\n",
       "  </thead>\n",
       "  <tbody>\n",
       "    <tr>\n",
       "      <th>row0</th>\n",
       "      <td>0</td>\n",
       "      <td>1</td>\n",
       "      <td>2</td>\n",
       "      <td>3</td>\n",
       "      <td>4</td>\n",
       "    </tr>\n",
       "    <tr>\n",
       "      <th>row1</th>\n",
       "      <td>5</td>\n",
       "      <td>6</td>\n",
       "      <td>7</td>\n",
       "      <td>8</td>\n",
       "      <td>9</td>\n",
       "    </tr>\n",
       "    <tr>\n",
       "      <th>row2</th>\n",
       "      <td>10</td>\n",
       "      <td>11</td>\n",
       "      <td>12</td>\n",
       "      <td>13</td>\n",
       "      <td>14</td>\n",
       "    </tr>\n",
       "  </tbody>\n",
       "</table>\n",
       "</div>"
      ],
      "text/plain": [
       "      col1  col2  col3  col4  col5\n",
       "row0     0     1     2     3     4\n",
       "row1     5     6     7     8     9\n",
       "row2    10    11    12    13    14"
      ]
     },
     "execution_count": 120,
     "metadata": {},
     "output_type": "execute_result"
    }
   ],
   "source": [
    "myframe4=pd.DataFrame(np.arange(15).reshape((3,5)),\n",
    "index=['row0','row1','row2'], columns=['col1','col2','col3','col4','col5'])\n",
    "myframe4"
   ]
  },
  {
   "cell_type": "code",
   "execution_count": null,
   "id": "e9b6bd9d",
   "metadata": {},
   "outputs": [],
   "source": []
  }
 ],
 "metadata": {
  "kernelspec": {
   "display_name": "Python 3",
   "language": "python",
   "name": "python3"
  },
  "language_info": {
   "codemirror_mode": {
    "name": "ipython",
    "version": 3
   },
   "file_extension": ".py",
   "mimetype": "text/x-python",
   "name": "python",
   "nbconvert_exporter": "python",
   "pygments_lexer": "ipython3",
   "version": "3.8.8"
  }
 },
 "nbformat": 4,
 "nbformat_minor": 5
}
